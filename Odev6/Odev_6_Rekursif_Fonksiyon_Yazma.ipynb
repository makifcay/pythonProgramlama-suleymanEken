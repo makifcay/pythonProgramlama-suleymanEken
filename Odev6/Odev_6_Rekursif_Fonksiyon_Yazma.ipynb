{
 "cells": [
  {
   "cell_type": "markdown",
   "metadata": {},
   "source": [
    "#### Ödev 6: Rekürsif Fonksiyon Yazma\n",
    "#### Aşağıdaki problemlemler için rekürsif foksiyon yazarak altına çözüp birkaç farklı parametre için çıktıları gösteriniz.  Herbir fonksiyon için docstring dokümantasyonunu ve gerekli görülmesi durumunda program içinde yorum satırlarınızı da ekleyiniz. \"ogrenci_no.ipynb\" dosyasını suleyman.eken@kocaeli.edu.tr adresine 6 Nisan 2020 Pazartesi saat 17.00ye kadar atınız."
   ]
  },
  {
   "cell_type": "markdown",
   "metadata": {},
   "source": [
    "<ul>\n",
    "\t<li>Liste içinde en küçük değeri bulma</li>\n",
    "\t<li>Karekök fonksiyonu</li>\n",
    "\t<li>En büyük ortak bölen hesaplama</li>\n",
    "\t<li>Asallık testi</li>\n",
    "\t<li>Özyinelemeli fonksiyonlarda hızlanma mümkün mü?</li>\n",
    "    <li>Tuple üzerinde rekürsif uygulama</li>\n",
    "</ul>"
   ]
  },
  {
   "cell_type": "markdown",
   "metadata": {},
   "source": [
    "En küçük parametre değeri\n",
    "-------------------\n",
    "Örnekler:\n",
    "\n",
    "    enkucuk([1,4,6,91,2,5])\n",
    "    1\n",
    "    \n",
    "    enkucuk([3,1,4])\n",
    "    1\n",
    "    \n",
    "    enkucuk([1,2,3,-1,4,-2,5])\n",
    "    -2"
   ]
  },
  {
   "cell_type": "code",
   "execution_count": 1,
   "metadata": {},
   "outputs": [
    {
     "name": "stdout",
     "output_type": "stream",
     "text": [
      "-6\n"
     ]
    }
   ],
   "source": [
    "def enkucuk(x):\n",
    "    \n",
    "    sayi = x[0]\n",
    "    for i in x:\n",
    "        \n",
    "        if i < sayi:\n",
    "            sayi = i\n",
    "            # Eğer ilk eleman i'den küçükse sayi olarak onu ata,\n",
    "            # Bulunan küçük sayıdan itibaren sona doğru giden yeni bir\n",
    "            # listeyi enkucuk()'e gönder.\n",
    "            enkucuk(x[x.index(i):len(x)])\n",
    "            \n",
    "    return sayi\n",
    "\n",
    "print(enkucuk([-3,2,-2,-6,4,-2,-5]))"
   ]
  },
  {
   "cell_type": "markdown",
   "metadata": {},
   "source": [
    "Karekök fonksiyonu\n",
    "---------------------\n",
    "Verilen bir $N$ sayısının karekökünü bulmak için Babil döneminden beri kullanılan tekrarlamalı (iteratif) bir yöntem vardır: Önce, karekök için bir tahminde bulunun ve buna $x_0$ deyin. Bir sonraki tahminimiz\n",
    "$$x_1 = \\frac{1}{2}\\left(x_0 + N/x_0\\right)$$\n",
    "olacak. Genel olarak,\n",
    "$$x_{n+1} = \\frac{1}{2}\\left(x_n + N/x_n\\right)$$\n",
    "kuralıyla ardışık iterasyonlar yaparsak, $x_n$ değerleri hızlıca $N$'nin kareköküne yakınsayacaktır.\n",
    "\n",
    "Bu yöntem, fonksiyon köklerini bulmak için kullanılan en iyi algoritmalardan biri olan Newton yönteminin özel bir durumudur.\n",
    "\n",
    "Bu algoritmayı kullanarak, bir sayının karekökünü veren bir fonksiyon yazın.\n",
    "\n",
    "Parametreler:\n",
    "* Karekökü alınacak sayı `N`.\n",
    "* İlk tahmin `x0`.\n",
    "* Tolerans `tol`. Varsayılan değer $10^{-10}$.\n",
    "* Azami iterasyon sayısı `maxiter`. Varsayılan değer 10.\n",
    "\n",
    "Sonuç:\n",
    "* `N`'nin karekökü için en iyi tahmin\n",
    "\n",
    "Fonksiyon içinde, yukarıdaki formülü tekrar tekrar işleterek daha iyi tahminlere ulaşan bir döngü yazın. Her adıımda, hata değeri $|x_n^2 - N|$ ile tolerans `tol` karşılaştırılsın. Hata,i toleransın altına düşünce döngü sonlansın. Ayrıca, döngü iterasyonları sayısı `maxiter`'den fazla olursa yine döngü sonlansın. Bu durumda bir uyarı mesajı ekrana yazılsın ve fonksiyon döngüde elde edilen son sonucu versin. \n",
    "\n",
    "Örnekler:\n",
    "\n",
    "    karekok(N=10, x0=1)\n",
    "    3.162277660168379\n",
    "    \n",
    "    karekok(N=10000, x0=0.1)\n",
    "    10 iterasyonda sonuca ulaşılamadı. 'hata' veya 'maxiter' değerlerini değiştirin\n",
    "    103.38412392442035\n",
    "    \n",
    "    karekok(N=10000, x0=0.1, maxiter=15)\n",
    "    100.0\n",
    "\n",
    "Not: Tolerans değerinden ne kadar uzaklastıgınızla alakalı ayrı bir fonksiyon yazabilirsiniz."
   ]
  },
  {
   "cell_type": "code",
   "execution_count": 2,
   "metadata": {},
   "outputs": [
    {
     "name": "stdout",
     "output_type": "stream",
     "text": [
      "HATA! - x iterasyonda sonuca ulaşılamadı\n",
      "'maxiter' değerlerini değiştirin\n",
      "Gerçek sonuç = 100.0\n",
      "103.38412392442035\n"
     ]
    }
   ],
   "source": [
    "def tolerance(deger, tahmin, tol):\n",
    "    \n",
    "    # Aradaki farkı gösterir\n",
    "    # print(\"{} - {} = {}\".format(deger, tahmin, abs(deger - tahmin)))\n",
    "\n",
    "    if abs(deger - tahmin) >= tol: \n",
    "        print(\"HATA! - {} iterasyonda sonuca ulaşılamadı\\n'maxiter' değerlerini değiştirin\\nGerçek sonuç = {}\".format(\"x\", (deger)))\n",
    "\n",
    "def karekok(N, x0, tol = 10**(-10), maxiter = 10 ):\n",
    "    x1 = (1/2)*(x0 + N/x0)\n",
    "\n",
    "    while maxiter != 0:\n",
    "        maxiter1 = maxiter - 1\n",
    "        return karekok(N, x1, maxiter = maxiter1 )\n",
    "    \n",
    "    tolerance(N**(1/2), x1, tol)\n",
    "    return x1\n",
    "\n",
    "print(karekok(N=10000, x0=0.1))"
   ]
  },
  {
   "cell_type": "markdown",
   "metadata": {},
   "source": [
    "En büyük ortak bölen\n",
    "---------------------------\n",
    "\n",
    "Örnek:\n",
    "    \n",
    "    ortakbol(18, 64)\n",
    "    2\n",
    "    \n",
    "    ortakbol(32, 64)\n",
    "    32"
   ]
  },
  {
   "cell_type": "code",
   "execution_count": 3,
   "metadata": {},
   "outputs": [
    {
     "data": {
      "text/plain": [
       "32"
      ]
     },
     "execution_count": 3,
     "metadata": {},
     "output_type": "execute_result"
    }
   ],
   "source": [
    "def ortakBolen(a , b, ortBolen = 1):\n",
    "    \n",
    "    # Girilen sayıların birbirlerine karşı büyük/küçük olma durumunu \n",
    "    # bilmemiz gerekiyor\n",
    "    # 2'den küçük olan sayıya kadar ilerleyecek range() fonk. yazmak için\n",
    "    if a >= b: \n",
    "        sayi1, sayi2 = a, b\n",
    "    else:\n",
    "        sayi1, sayi2 = b, a\n",
    "        \n",
    "    # Kontrol için\n",
    "    # print(sayi1,sayi2, ortBolen)\n",
    "    \n",
    "    # sayi2 + 1 çünkü sayının kendisini de dahil etmemiz gerekiyor\n",
    "    # range() fonksiyonu end olarak girilen sayının 1 eksiğini alır.\n",
    "    for i in range(2, sayi2 + 1):\n",
    "\n",
    "        if (sayi1 % i == 0) and (sayi2 % i == 0):\n",
    "            return ortakBolen((sayi1//i), (sayi2//i), ortBolen*i)\n",
    "\n",
    "    return ortBolen\n",
    "\n",
    "ortakBolen(32,64)"
   ]
  },
  {
   "cell_type": "markdown",
   "metadata": {},
   "source": [
    "Asallık testi\n",
    "--------------------------------\n",
    "Bir sayı 1'den büyük olmak koşulu ile kendisi hariç böleni yoksa asal sayıdır.\n",
    "\n",
    "    asalmi(35)\n",
    "    False\n",
    "    \n",
    "    asalmi(97)\n",
    "    True"
   ]
  },
  {
   "cell_type": "code",
   "execution_count": 4,
   "metadata": {},
   "outputs": [
    {
     "name": "stdout",
     "output_type": "stream",
     "text": [
      "True\n"
     ]
    }
   ],
   "source": [
    "def asalMi(x, n = 2):\n",
    "    \n",
    "    if (x == n):\n",
    "        return True\n",
    "    # Eğer tam sayı değilse veya 2'den küçükse\n",
    "    # https://www.geeksforgeeks.org/type-isinstance-python/\n",
    "    elif (x < 2) or (isinstance(x, int) == False):\n",
    "        return False\n",
    "    # Başka bir sayıya tam bölünüyorsa\n",
    "    elif (x % n == 0):\n",
    "        return False\n",
    "    else:\n",
    "        pass\n",
    "    return asalMi(x, n + 1)\n",
    "\n",
    "print(asalMi(97))"
   ]
  },
  {
   "cell_type": "markdown",
   "metadata": {},
   "source": [
    "Daha hızlı Fibonacci hesabı\n",
    "------------------\n",
    "Özyineleme dersinin sonunda birtakım olumsuzluklardan bahsetmiştik. Onlardan bir tanesi de gereksiz hesaplama yapılması idi. Örneğin, fib (5)'e yapılan çağrıda fib (3)'ün çağrılması/hesaplaması 2 kere tekrarlanmıştır (ağacın daire içine alınmış bölgelerine bakınız)\n",
    "\n",
    "Daha az hızlı olan başka bir algoritmayı düşünmeye çalışalım. Diziyi kağıt üzerinde hesapladığımızda ne yapıyoruz?\n",
    "\n",
    "     0 1 1 2 3 5 8 13 21 34 ...\n",
    "     \n",
    "Önceki iki sayıya bakarız ve bir sonraki sayıya ulaşmak için ekleriz. Önceki ikisini yeniden hesaplamıyoruz, sadece ekliyoruz (veya hatırlıyoruz). Bu algoritmayı şöyle düşünelim: Parametreleri n (kacıncı fibonacci sayısı hesaplanacak olan), bir sayı k ve fib(k) ve fib(k-1) değerleri. k'yi, diziyi yazarken bugüne kadar geldiğimiz yer olarak düşünün. k, n'ye ulaştığında işimiz bitmiş demektir. hizlandirici(n,k,fibk,fibk1). hizlandirici fonksiyonun rekürsif olduğu gözden kaçmamalıdır.\n",
    "\n",
    "    n,k,fibk,fibk1\n",
    "    8 1 1 0\n",
    "    8 2 1 1\n",
    "    8 3 2 1\n",
    "    8 4 3 2\n",
    "    8 5 5 3\n",
    "    8 6 8 5\n",
    "    8 7 13 8\n",
    "    8 8 21 13"
   ]
  },
  {
   "cell_type": "code",
   "execution_count": 5,
   "metadata": {},
   "outputs": [],
   "source": [
    "def hizlandirici(n, k, fibk1 = 1, fibk0 = 0):\n",
    "    \n",
    "    print(n,k, fibk1, fibk0)\n",
    "    \n",
    "    # Eğer k aradığımız değere ulaştıysa fib'i yazdır ve dön\n",
    "    if (n == k):\n",
    "        print(fibk1)\n",
    "        return fibk1\n",
    "    else:\n",
    "         # ilk fib hesaplanan son fib, ikinci fib önceki ile toplamın sonucu k'yı 1 arttır\n",
    "        return hizlandirici(n, k + 1, fibk0 + fibk1, fibk1)"
   ]
  },
  {
   "cell_type": "code",
   "execution_count": 6,
   "metadata": {},
   "outputs": [],
   "source": [
    "def fib2(n):\n",
    "    return hizlandirici(n, 1)"
   ]
  },
  {
   "cell_type": "code",
   "execution_count": 7,
   "metadata": {},
   "outputs": [
    {
     "name": "stdout",
     "output_type": "stream",
     "text": [
      "30 1 1 0\n",
      "30 2 1 1\n",
      "30 3 2 1\n",
      "30 4 3 2\n",
      "30 5 5 3\n",
      "30 6 8 5\n",
      "30 7 13 8\n",
      "30 8 21 13\n",
      "30 9 34 21\n",
      "30 10 55 34\n",
      "30 11 89 55\n",
      "30 12 144 89\n",
      "30 13 233 144\n",
      "30 14 377 233\n",
      "30 15 610 377\n",
      "30 16 987 610\n",
      "30 17 1597 987\n",
      "30 18 2584 1597\n",
      "30 19 4181 2584\n",
      "30 20 6765 4181\n",
      "30 21 10946 6765\n",
      "30 22 17711 10946\n",
      "30 23 28657 17711\n",
      "30 24 46368 28657\n",
      "30 25 75025 46368\n",
      "30 26 121393 75025\n",
      "30 27 196418 121393\n",
      "30 28 317811 196418\n",
      "30 29 514229 317811\n",
      "30 30 832040 514229\n",
      "832040\n",
      "hizlilandirilmis hesaplama zamani 0.008973\n"
     ]
    }
   ],
   "source": [
    "from time import time\n",
    "t0 = time()\n",
    "# print(fib2(30))\n",
    "fib2(30)\n",
    "t1 = time()\n",
    "\n",
    "print (('hizlilandirilmis hesaplama zamani %f' %(t1-t0)))"
   ]
  },
  {
   "cell_type": "code",
   "execution_count": 8,
   "metadata": {},
   "outputs": [
    {
     "name": "stdout",
     "output_type": "stream",
     "text": [
      "normal fib hesaplama zamani: 0.281293\n"
     ]
    }
   ],
   "source": [
    "def fib(n):\n",
    "    if n <= 1:\n",
    "        return n\n",
    "    else:\n",
    "        return (fib(n-1) + fib(n-2))\n",
    "\n",
    "from time import time\n",
    "t0 = time()\n",
    "fib(30)  #her iki tarafta sayıları artırarak farkı gozlemleyiniz\n",
    "t1 = time()\n",
    "\n",
    "print ('normal fib hesaplama zamani: %f' %(t1-t0))"
   ]
  },
  {
   "cell_type": "markdown",
   "metadata": {},
   "source": [
    "Tuple alt parca toplamı\n",
    "------------------\n",
    "Verilen bir tuple'a ait alt parcasında verilen sayıyı elde etmek mumkun mudur?  altset(tuple,k)\n",
    "    \n",
    "    altset_topla((2, 4, 7, 3), 5) # 2 + 3 = 5\n",
    "    True\n",
    "    subset_sum((1, 9, 5, 7, 3), 2)\n",
    "    False\n",
    "    \n",
    "Not: bir elemanın tuple icinde olup olmadıgına dair (in) operatörü kullanılabilir.\n",
    "    \n",
    "    3 in (1, 2, 3)\n",
    "    True\n",
    "    4 in(1, 2, 3)\n",
    "    False\n"
   ]
  },
  {
   "cell_type": "code",
   "execution_count": 9,
   "metadata": {},
   "outputs": [
    {
     "data": {
      "text/plain": [
       "False"
      ]
     },
     "execution_count": 9,
     "metadata": {},
     "output_type": "execute_result"
    }
   ],
   "source": [
    "def subset(tuple1, k):\n",
    "    \n",
    "    # Kontrol için\n",
    "    # print(tuple1)\n",
    "    \n",
    "    #Tuple'da del kullanamayacağım için dönüşüm yapıyorum\n",
    "    liste1 = list(tuple1)\n",
    "    testSayisi = liste1[0]\n",
    "    \n",
    "    # 2 Eleman kaldığı durumda bu ikisinin sonucunun k'ya eşitlik durumunu döndür\n",
    "    if (len(liste1) == 2):\n",
    "        return liste1[0] + liste1[1] == k\n",
    "    \n",
    "    else:\n",
    "        for i in range(1, len(liste1)):\n",
    "            # Yapılan kontrolü görmek için\n",
    "            # print(\"{} + {} ?= {}\".format(testSayisi, liste1[i], k))\n",
    "            if (testSayisi + liste1[i]) == k:\n",
    "                return True\n",
    "            \n",
    "    del liste1[0]\n",
    "    tuple1 = tuple(liste1)\n",
    "    return subset(tuple1, k)\n",
    "\n",
    "subset((1, 9, 5, 7, 3), 2)"
   ]
  }
 ],
 "metadata": {
  "kernelspec": {
   "display_name": "Python 3",
   "language": "python",
   "name": "python3"
  },
  "language_info": {
   "codemirror_mode": {
    "name": "ipython",
    "version": 3
   },
   "file_extension": ".py",
   "mimetype": "text/x-python",
   "name": "python",
   "nbconvert_exporter": "python",
   "pygments_lexer": "ipython3",
   "version": "3.7.6"
  }
 },
 "nbformat": 4,
 "nbformat_minor": 2
}
