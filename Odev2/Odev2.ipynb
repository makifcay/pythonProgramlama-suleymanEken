{
 "cells": [
  {
   "cell_type": "markdown",
   "metadata": {},
   "source": [
    "#### TBL220 Python Programlama Odev2"
   ]
  },
  {
   "cell_type": "markdown",
   "metadata": {},
   "source": [
    "#### İntihal: \n",
    "Netten alınacak kısmi kod parçaları önceden kod içinde/raporda belirtilmek ve soru sorulduğunda cevaplanması durumunda sıkıntı çıkarmayacaktır. (i) Internet kaynağını belirtmeyen/açıklayamayan/üzerinde geliştirme yapmayan veya (ii) birbirleriyle benzer/aynı çalışma teslim edenlerin aktiviteleri sıfır üzerinden değerlendirilecektir."
   ]
  },
  {
   "cell_type": "markdown",
   "metadata": {},
   "source": [
    "#### Odev2 Gönderim şekli"
   ]
  },
  {
   "cell_type": "markdown",
   "metadata": {},
   "source": [
    "pdf olarak \"ogrenciNo.pdf\" dokumanını gonderme\n",
    "-calisma dosyasında (File -> Print Preview) sonrası olusan html dosyasını yazdır deyip pdf olarak kaydetme veya\n",
    "-(File -> Download as -> HTML) seklinde indirip pdf'e cevirme http://html2pdf.com/\n",
    "\n",
    "suleyman.eken@kocaeli.edu.tr"
   ]
  },
  {
   "cell_type": "markdown",
   "metadata": {},
   "source": [
    "### Beş tane döngülerle ilgili problem yazılıp çözümleri altında verilecektir."
   ]
  },
  {
   "cell_type": "markdown",
   "metadata": {},
   "source": [
    "#### Problem 1\n",
    "\n",
    "0'dan 10'a kadar bir listeyi doldur ve yazdır."
   ]
  },
  {
   "cell_type": "code",
   "execution_count": 1,
   "metadata": {},
   "outputs": [
    {
     "name": "stdout",
     "output_type": "stream",
     "text": [
      "[0, 1, 2, 3, 4, 5, 6, 7, 8, 9]\n"
     ]
    }
   ],
   "source": [
    "i = 0\n",
    "liste = []\n",
    "while not(i == 10): # veya while (i < 10)\n",
    "    liste = liste + [i]\n",
    "    i += 1\n",
    "print(liste)"
   ]
  },
  {
   "cell_type": "markdown",
   "metadata": {},
   "source": [
    "#### Problem 2\n",
    "\n",
    "`*` karakteriyle 8 katlı bir ağaç oluştur.\n",
    "\n",
    "\n",
    "<pre>\n",
    "              * \n",
    "             * * \n",
    "            * * * \n",
    "           * * * * \n",
    "          * * * * * \n",
    "         * * * * * * \n",
    "        * * * * * * * \n",
    "       * * * * * * * * \n",
    "</pre>"
   ]
  },
  {
   "cell_type": "code",
   "execution_count": 2,
   "metadata": {},
   "outputs": [
    {
     "name": "stdout",
     "output_type": "stream",
     "text": [
      "       * \n",
      "      * * \n",
      "     * * * \n",
      "    * * * * \n",
      "   * * * * * \n",
      "  * * * * * * \n",
      " * * * * * * * \n",
      "* * * * * * * * \n"
     ]
    }
   ],
   "source": [
    "space = \" \"\n",
    "star = \"*\"\n",
    "i1 = 8 # Bu değer değiştirilerek istenilen katta ağaç üretilebilir.\n",
    "i2 = 1 # Her katta eklenecek \"*\" sayısı\n",
    "\n",
    "while (i1 > 0): # Kat sayısı 0'dan büyük olduğu sürece devam et (fazladan bir satır yazdırmamak için 0 olduğunda dur)\n",
    "    \n",
    "    print(space*(i1-1)+(star+space)*i2) # Katın bir eksiği (en alt katta 0 boşluk) kadar boşluk, ve katın gerektirdiği kadar yıldız + boşluk ekle\n",
    "    i1 -= 1\n",
    "    i2 += 1"
   ]
  },
  {
   "cell_type": "markdown",
   "metadata": {},
   "source": [
    "#### Problem 3\n",
    "\n",
    "\"Python Programlama\" kelimesinin her harfini satırlarla yazdır."
   ]
  },
  {
   "cell_type": "code",
   "execution_count": 3,
   "metadata": {
    "scrolled": true
   },
   "outputs": [
    {
     "name": "stdout",
     "output_type": "stream",
     "text": [
      "P\n",
      "y\n",
      "t\n",
      "h\n",
      "o\n",
      "n\n",
      " \n",
      "P\n",
      "r\n",
      "o\n",
      "g\n",
      "r\n",
      "a\n",
      "m\n",
      "l\n",
      "a\n",
      "m\n",
      "a\n"
     ]
    }
   ],
   "source": [
    "s = \"Python Programlama\"\n",
    "\n",
    "for i in s:\n",
    "    print(i)"
   ]
  },
  {
   "cell_type": "markdown",
   "metadata": {},
   "source": [
    "#### Problem 4\n",
    "Şehirler listesi içinden: \n",
    "\n",
    "a. \"k\" ile başlayan şehirleri listeye yazdır.\n",
    "b. \"a\" içeren şehirleri listeye yazdır.\n",
    "\n",
    "Şehirler:\n",
    "\"İstanbul\", \"İzmir\", \"Kars\", \"Kastamonu\", \"Kayseri\", \"Kırklareli\", \"Kırşehir\", \"Kocaeli\", \"Konya\", \"Kütahya\", \"Malatya\", \"Manisa\", \"K.maraş\"\n",
    "\n"
   ]
  },
  {
   "cell_type": "code",
   "execution_count": 4,
   "metadata": {},
   "outputs": [
    {
     "name": "stdout",
     "output_type": "stream",
     "text": [
      "K ile başlayanlar:\n",
      " ['Kars', 'Kastamonu', 'Kayseri', 'Kırklareli', 'Kırşehir', 'Kocaeli', 'Konya', 'Kütahya', 'Kahramanmaraş']\n",
      "A harfini içerenler:\n",
      " ['İstanbul', 'Kars', 'Kastamonu', 'Kayseri', 'Kırklareli', 'Kocaeli', 'Konya', 'Kütahya', 'Malatya', 'Manisa', 'Kahramanmaraş', 'Mardin']\n"
     ]
    }
   ],
   "source": [
    "cities = [\"İstanbul\", \"İzmir\", \"Kars\", \"Kastamonu\", \"Kayseri\", \"Kırklareli\", \"Kırşehir\", \"Kocaeli\", \"Konya\", \"Kütahya\", \"Malatya\", \"Manisa\", \"Kahramanmaraş\", \"Mardin\"]\n",
    "begins_with_k = []\n",
    "includes_a = []\n",
    "cities_i = 0\n",
    "\n",
    "for i in cities:\n",
    "    if (cities[cities_i].find(\"K\") == 0): # İndis 0'da K veya k bulursa # find() case-sensetive (büyük/küçük harf duyarlılığı var)\n",
    "        begins_with_k.append(cities[cities_i]) # Listeye ekle\n",
    "    cities_i += 1\n",
    "\n",
    "cities_i = 0    \n",
    "\n",
    "for i in cities:\n",
    "    if (cities[cities_i].find(\"a\") != -1): # Herhangi bir indiste A veya a bulursa \n",
    "        includes_a.append(cities[cities_i]) # Listeye ekle\n",
    "    cities_i += 1    \n",
    "    \n",
    "print(\"K ile başlayanlar:\\n\",begins_with_k)\n",
    "print(\"A harfini içerenler:\\n\",includes_a)"
   ]
  },
  {
   "cell_type": "markdown",
   "metadata": {},
   "source": [
    "#### Problem 5\n",
    "\n",
    "<pre>\n",
    "Liste = [3, 45, 22, 83, 102, 37, 8, 11, 7, 31, 74, 8]\n",
    "</pre>\n",
    "\n",
    "Listedeki çift sayıları ve tek sayıları iki ayrı listeye ayırıp listeleri çıktı veren program.\n"
   ]
  },
  {
   "cell_type": "code",
   "execution_count": 5,
   "metadata": {},
   "outputs": [
    {
     "name": "stdout",
     "output_type": "stream",
     "text": [
      "Çift sayılar = [22, 102, 8, 74, 8] \n",
      "Tek sayılar = [3, 45, 83, 37, 11, 7, 31] \n"
     ]
    }
   ],
   "source": [
    "numList = [3, 45, 22, 83, 102, 37, 8, 11, 7, 31, 74, 8]\n",
    "evenList = []\n",
    "oddList = []\n",
    "\n",
    "for i in numList:\n",
    "    \n",
    "    if (i % 2) == 0:\n",
    "        evenList.append(i) \n",
    "    else:\n",
    "        oddList.append(i) \n",
    "\n",
    "print(\"Çift sayılar = {} \".format(evenList))\n",
    "print(\"Tek sayılar = {} \".format(oddList))"
   ]
  },
  {
   "cell_type": "markdown",
   "metadata": {},
   "source": [
    "### Beş tane koşul ifadelerle ilgili problem yazılıp çözümleri altında verilecektir."
   ]
  },
  {
   "cell_type": "markdown",
   "metadata": {},
   "source": [
    "#### Problem 1\n",
    "5'in faktöriyelini yazdır.\n"
   ]
  },
  {
   "cell_type": "code",
   "execution_count": 6,
   "metadata": {},
   "outputs": [
    {
     "name": "stdout",
     "output_type": "stream",
     "text": [
      "5! = 120\n"
     ]
    }
   ],
   "source": [
    "fac = 5\n",
    "\n",
    "def factorial (f):\n",
    "    \n",
    "    if (f == 1 or f == 0):\n",
    "        return 1\n",
    "    else:\n",
    "        return f*factorial(f-1)\n",
    "\n",
    "print(\"{}! = {}\".format(fac, factorial(fac)))"
   ]
  },
  {
   "cell_type": "markdown",
   "metadata": {},
   "source": [
    "#### Problem 2\n",
    "65, 34 ve 88 notunu harf notuna dönüştür.\n",
    "\n",
    "| Harf | Yüzde |\n",
    "|----|--------|\n",
    "| AA | 90-100 |\n",
    "| BA | 85-89  |\n",
    "| BB | 80-84  |\n",
    "| CB | 70-79  |\n",
    "| CC | 60-69  |\n",
    "| DC | 50-59  |\n",
    "| DD | 45-49  |\n",
    "| FD | 35-44  |\n",
    "| FF | 00-34  |\n"
   ]
  },
  {
   "cell_type": "code",
   "execution_count": 7,
   "metadata": {},
   "outputs": [
    {
     "name": "stdout",
     "output_type": "stream",
     "text": [
      "CC\n",
      "FF\n",
      "BA\n"
     ]
    }
   ],
   "source": [
    "g1 = 65\n",
    "g2 = 34 \n",
    "g3 = 88\n",
    "\n",
    "def grade(g):\n",
    "    \n",
    "    if (g >= 90):\n",
    "        letter_grade = \"AA\"\n",
    "        print(letter_grade)\n",
    "    elif (g >= 85):\n",
    "        letter_grade = \"BA\"\n",
    "        print(letter_grade)\n",
    "    elif (g >= 80):\n",
    "        letter_grade = \"BB\"\n",
    "        print(letter_grade)\n",
    "    elif (g >= 70):\n",
    "        letter_grade = \"CB\"\n",
    "        print(letter_grade)\n",
    "    elif (g >= 60):\n",
    "        letter_grade = \"CC\"\n",
    "        print(letter_grade)\n",
    "    elif (g >= 50):\n",
    "        letter_grade = \"DC\"\n",
    "        print(letter_grade)\n",
    "    elif (g >= 45):\n",
    "        letter_grade = \"DD\"\n",
    "        print(letter_grade)\n",
    "    elif (g >= 35):\n",
    "        letter_grade = \"FD\"\n",
    "        print(letter_grade)\n",
    "    else:\n",
    "        letter_grade = \"FF\"\n",
    "        print(letter_grade)\n",
    "\n",
    "grade(g1)\n",
    "grade(g2)\n",
    "grade(g3)"
   ]
  },
  {
   "cell_type": "markdown",
   "metadata": {},
   "source": [
    "#### Problem 3\n",
    "\n",
    "Bir internet mağazasının satış poltikası:\n",
    "\n",
    ">En az 20 TL sipariş\n",
    ">\n",
    ">Kargo ücreti 6 TL\n",
    ">\n",
    ">100 TL üzerine kargo ücretsiz\n",
    ">\n",
    ">250 TL üzerine sonraki alışveriş için %15 indirim kodu\n",
    "\n",
    "Ücrete göre çıktı veren programı yaz."
   ]
  },
  {
   "cell_type": "code",
   "execution_count": 8,
   "metadata": {
    "scrolled": true
   },
   "outputs": [
    {
     "name": "stdout",
     "output_type": "stream",
     "text": [
      "230\n",
      "Ücret 230\n",
      "Kargo 0\n",
      "Toplam Fiyat: 230\n"
     ]
    }
   ],
   "source": [
    "cost = int(input()) #Input varsayılan olarak str olarak atandığı için int'e çevrilmesi gerekiyor\n",
    "\n",
    "if (cost < 20):\n",
    "    shipment_fee = 6\n",
    "    print(\"En az 20 TL değerinde ürün almanız gerekiyor\")\n",
    "elif (cost < 100):\n",
    "    shipment_fee = 6\n",
    "    print(\"Ücret {}\\nKargo {}\\nToplam Fiyat: {}\".format(cost,shipment_fee,cost + shipment_fee))\n",
    "elif (cost < 250):\n",
    "    shipment_fee = 0\n",
    "    print(\"Ücret {}\\nKargo {}\\nToplam Fiyat: {}\".format(cost,shipment_fee,cost + shipment_fee))\n",
    "else:\n",
    "    shipment_fee = 0\n",
    "    print(\"Ücret {}\\nKargo {}\\nToplam Fiyat: {} \\nve sonraki alışveriş için %15 indirim kodu\".format(cost,shipment_fee,cost + shipment_fee))"
   ]
  },
  {
   "cell_type": "markdown",
   "metadata": {},
   "source": [
    "#### Problem 4\n",
    "\n",
    "Üç farklı sayının büyüklük durumlarını karşılaştır."
   ]
  },
  {
   "cell_type": "code",
   "execution_count": 9,
   "metadata": {},
   "outputs": [
    {
     "name": "stdout",
     "output_type": "stream",
     "text": [
      "363 > 126 > 34\n"
     ]
    }
   ],
   "source": [
    "n1 = 126\n",
    "n2 = 363\n",
    "n3 = 34\n",
    "\n",
    "def write(threeNumList):\n",
    "    \n",
    "    print(\"{} > {} > {}\".format(threeNumList[0], threeNumList[1], threeNumList[2]))\n",
    "\n",
    "def threeNumbers(a,b,c):\n",
    "    \n",
    "    numberList = [0,0,0]\n",
    "    \n",
    "    if a == b or a == c or b == c:\n",
    "        print(\"Eşit sayılar var\")\n",
    "        \n",
    "        return 0\n",
    "    \n",
    "    elif a > b and a > c:\n",
    "        if b > c:\n",
    "            numberList[0] = a\n",
    "            numberList[1] = b\n",
    "            numberList[2] = c\n",
    "        \n",
    "        else:\n",
    "            numberList[0] = a\n",
    "            numberList[1] = c\n",
    "            numberList[2] = b\n",
    "            \n",
    "    elif b > a and b > c:\n",
    "        if c > a:\n",
    "            numberList[0] = b\n",
    "            numberList[1] = c\n",
    "            numberList[2] = a\n",
    "        \n",
    "        else:\n",
    "            numberList[0] = b\n",
    "            numberList[1] = a\n",
    "            numberList[2] = c\n",
    "            \n",
    "    elif c > a and c > b:\n",
    "        if b > a:\n",
    "            numberList[0] = c\n",
    "            numberList[1] = b\n",
    "            numberList[2] = a\n",
    "        \n",
    "        else:\n",
    "            numberList[0] = b\n",
    "            numberList[1] = a\n",
    "            numberList[2] = c\n",
    "            \n",
    "    write(numberList)\n",
    "\n",
    "threeNumbers(n1,n2,n3)"
   ]
  },
  {
   "cell_type": "markdown",
   "metadata": {},
   "source": [
    "#### Problem 5\n",
    "\n",
    "Kenarları verilen bir üçgenin üçgen olma durumunu kontrol et.\n",
    "\n",
    "> a, b ve c kenarlarından oluşan bir üçgen için:\n",
    ">\n",
    "> a + b > c > |a - b|\n",
    ">\n",
    "> a + c > b > |a + c|\n",
    ">\n",
    "> b + c > a > |b - c|"
   ]
  },
  {
   "cell_type": "code",
   "execution_count": 10,
   "metadata": {},
   "outputs": [
    {
     "data": {
      "text/plain": [
       "True"
      ]
     },
     "execution_count": 10,
     "metadata": {},
     "output_type": "execute_result"
    }
   ],
   "source": [
    "i1 = 3\n",
    "i2 = 4\n",
    "i3 = 5\n",
    "\n",
    "def triangleCondCheck(a, b, c):\n",
    "    \n",
    "    if a + b > c and c > abs(b - a): #İç içe If'ler (nested If)\n",
    "        pass # Koşulun altı boş bırakılması gereken durumda pass kullanılır\n",
    "        if b + c > a and a > abs(b - c):\n",
    "            pass\n",
    "            if a + c > a and a > abs(a - c):\n",
    "                pass\n",
    "                \n",
    "            else:\n",
    "                return False\n",
    "            \n",
    "        else:\n",
    "            return False\n",
    "        \n",
    "    else:\n",
    "        return False\n",
    "        \n",
    "    return True\n",
    "\n",
    "triangleCondCheck(i1,i2,i3)"
   ]
  }
 ],
 "metadata": {
  "kernelspec": {
   "display_name": "Python 3",
   "language": "python",
   "name": "python3"
  },
  "language_info": {
   "codemirror_mode": {
    "name": "ipython",
    "version": 3
   },
   "file_extension": ".py",
   "mimetype": "text/x-python",
   "name": "python",
   "nbconvert_exporter": "python",
   "pygments_lexer": "ipython3",
   "version": "3.7.6"
  }
 },
 "nbformat": 4,
 "nbformat_minor": 2
}
