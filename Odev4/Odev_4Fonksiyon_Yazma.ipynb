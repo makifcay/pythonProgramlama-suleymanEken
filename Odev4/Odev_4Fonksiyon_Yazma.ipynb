{
 "cells": [
  {
   "cell_type": "markdown",
   "metadata": {},
   "source": [
    "#### Ödev 4: Fonksiyon Yazma\n",
    "#### Aşağıdaki problemlemleri foksiyon yazarak altına çözüp birkaç farklı parametre için çıktıları gösteriniz.  Herbir fonksiyon için docstring dokümantasyonunu ve gerekli görülmesi durumunda program içinde yorum satırlarınızı da ekleyiniz. \"ogrenci_no.ipynb\" dosyasını suleyman.eken@kocaeli.edu.tr adresine 6 Nisan 2020 Pazartesi saat 17.00ye kadar atınız."
   ]
  },
  {
   "cell_type": "markdown",
   "metadata": {},
   "source": [
    "<ul>\n",
    "\t<li>Fonksiyona verilen en küçük parametreyi bulma</li>\n",
    "\t<li>Fibonacci sayıları</li>\n",
    "\t<li>Satranç atının gidebileceği kareler</li>\n",
    "\t<li>Machin formülü ile pi'yi bulmak</li>\n",
    "\t<li>İkinci derece denklem kökleri</li>\n",
    "\t<li>Mükemmel sayılar</li>\n",
    "</ul>"
   ]
  },
  {
   "cell_type": "markdown",
   "metadata": {},
   "source": [
    "En küçük parametre değeri\n",
    "-------------------\n",
    "Belirsiz sayıda sayısal parametre alıp parametreler arasındaki en küçük değeri geri veren bir fonksiyon yazın.\n",
    "\n",
    "Örnekler:\n",
    "\n",
    "    enkucuk(7)\n",
    "    7\n",
    "    \n",
    "    enkucuk(3,1,4)\n",
    "    1\n",
    "    \n",
    "    enkucuk(1,2,3,-1,4,-2,5)\n",
    "    -2\n",
    "Parametre listesi boş ise `None` dönsün (`return None` komutunu kullanın).\n",
    "\n",
    "    enkucuk()\n",
    "    None"
   ]
  },
  {
   "cell_type": "code",
   "execution_count": 1,
   "metadata": {},
   "outputs": [
    {
     "data": {
      "text/plain": [
       "\"\\n# Örnek çıktı\\nprint(enkucuk(7), enkucuk(3,1,4), enkucuk(1,2,3,-1,4,-2,5), enkucuk(), sep = '\\n')\\n\""
      ]
     },
     "execution_count": 1,
     "metadata": {},
     "output_type": "execute_result"
    }
   ],
   "source": [
    "def enkucuk(*s):\n",
    "    \n",
    "    if s == ():\n",
    "    \n",
    "        return None\n",
    "\n",
    "        enkucukS = None\n",
    "\n",
    "        for i in s:\n",
    "\n",
    "            if enkucukS == None:\n",
    "                enkucukS = i\n",
    "\n",
    "            elif enkucukS > i:\n",
    "                enkucukS = i\n",
    "\n",
    "        return enkucukS\n",
    "\n",
    "'''\n",
    "# Örnek çıktı\n",
    "print(enkucuk(7), enkucuk(3,1,4), enkucuk(1,2,3,-1,4,-2,5), enkucuk(), sep = '\\n')\n",
    "'''"
   ]
  },
  {
   "cell_type": "markdown",
   "metadata": {},
   "source": [
    "Hatırlatma: Belirsiz sayıda parametreler\n",
    "-------------------\n",
    "Bir fonksiyonun kaç tane parametre alacağını önceden belirtmek zorunda da değilsiniz. Fonksiyon tanımını aşağıdaki gibi yaparak bütün konumsal parametrelerin bir tuple'da toplanmasını sağlayabilirsiniz."
   ]
  },
  {
   "cell_type": "code",
   "execution_count": 2,
   "metadata": {},
   "outputs": [],
   "source": [
    "def f(*par):\n",
    "    print(\"Parametreler:\", par)"
   ]
  },
  {
   "cell_type": "code",
   "execution_count": 3,
   "metadata": {},
   "outputs": [
    {
     "name": "stdout",
     "output_type": "stream",
     "text": [
      "Parametreler: ()\n",
      "Parametreler: (3,)\n",
      "Parametreler: (45, (3-4j), 'merhaba', [1, 2, 3])\n"
     ]
    }
   ],
   "source": [
    "f()      # hiç parametre yok, boş tuple.\n",
    "f(3)     # tek parametre, tekli tuple.\n",
    "f(45, 3-4j, \"merhaba\", [1,2,3])   # dörtlü tuple"
   ]
  },
  {
   "cell_type": "markdown",
   "metadata": {},
   "source": [
    "Fibonacci sayıları\n",
    "--------------------\n",
    "İlk `n` Fibonacci sayısını bir liste halinde veren bir fonksiyon yazın. Örnekler:\n",
    "\n",
    "    fib(0)\n",
    "    []\n",
    "    \n",
    "    fib(1)\n",
    "    [1]\n",
    "    \n",
    "    fib(2)\n",
    "    [1, 1]\n",
    "    \n",
    "    fib(10)\n",
    "    [1, 1, 2, 3, 5, 8, 13, 21, 34, 55]"
   ]
  },
  {
   "cell_type": "code",
   "execution_count": 4,
   "metadata": {},
   "outputs": [
    {
     "data": {
      "text/plain": [
       "[1, 1, 2, 3, 5, 8, 13, 21, 34, 55]"
      ]
     },
     "execution_count": 4,
     "metadata": {},
     "output_type": "execute_result"
    }
   ],
   "source": [
    "\"\"\"\n",
    "0'a küçük eşitse boş liste döner\n",
    "1'e eşitse [1] döner\n",
    "2'ye eşitse [1,1] döner\n",
    "Diğer tüm durumlarda önce [1,1] ekler, daha sonra sayıya göre toplayarak listeye ekler\n",
    "\"\"\"\n",
    "\n",
    "def fib(n):  \n",
    "    fibList = []\n",
    "    fibNum = 1\n",
    "\n",
    "    if n <= 0 : \n",
    "        pass \n",
    "    \n",
    "    elif n==1: \n",
    "        fibList.append(1)\n",
    "\n",
    "    elif n==2: \n",
    "        fibList.append(1)\n",
    "        fibList.append(1)\n",
    "        \n",
    "    else: \n",
    "        fibList.append(1)\n",
    "        fibList.append(1)\n",
    "        \n",
    "        # n - 2 olma sebebi iki sayının önceden eklenmiş olması.\n",
    "        for i in range(0, n-2):     \n",
    "            fibNum = fibNum + fibList[i]\n",
    "            fibList.append(fibNum)\n",
    "                 \n",
    "    return fibList\n",
    "\n",
    "fib(10)"
   ]
  },
  {
   "cell_type": "markdown",
   "metadata": {},
   "source": [
    "Satranç atının hareketi\n",
    "---------------------------\n",
    "Satranç tahtasında at L biçiminde hareket eder: Şekilde gösterildiği gibi bir yönde iki kare, sonra ona dik olarak bir kare.\n",
    "\n",
    "<img src=\"satranc_at.png\" />\n",
    "\n",
    "Atın tahtadaki pozisyonunu iki parametre olarak alan ve gidebileceği karelerin listesini veren bir fonksiyon yazın. Her kareyi bir ikili tuple ile gösterin, `('a',1)`, `('g',5)` gibi. At tahtanın sınırlarına yakınsa, tahtanın dışına çıkacak hamleleri eleyin.\n",
    "\n",
    "Örnek:\n",
    "    \n",
    "    athareket('d', 7)\n",
    "    [('c',5),('e',5),('b',6),('f',6),('b',8),('f',8)]\n",
    "    \n",
    "    athareket('f',3)\n",
    "    [('d',2),('d',4),('e',1),('e',5),('g',5),('g',1),('h',4),('h',2)]"
   ]
  },
  {
   "cell_type": "code",
   "execution_count": 45,
   "metadata": {},
   "outputs": [
    {
     "name": "stdout",
     "output_type": "stream",
     "text": [
      "[('h', 4), ('g', 5), ('h', 2), ('g', 1), ('d', 4), ('e', 5), ('d', 2), ('e', 1)]\n"
     ]
    }
   ],
   "source": [
    "\"\"\"\n",
    "Atın (knight) hamlesi için tüm ihtimaller:\n",
    "\n",
    "1,2\n",
    "2,1\n",
    "-1,2\n",
    "-2,1\n",
    "1,-2\n",
    "2,-1\n",
    "-1,-2\n",
    "-2,-1\n",
    "\n",
    "Burada sadece yeni kordinat atamaları var, at her noktaya 2 farklı yolla gidebilir.\n",
    "Yani, bu sayıları ikili tuple halinde vererek ve aynı anda uygulayarak, bu iki ihtimalin tekrarlanmasının önüne geçmiş oluyoruz.\n",
    "İlk yol, önce iki sonra bir, \n",
    "İkinci yol önce bir sonra iki hane ilerleyerek yapılabilir. Ancak ulaşılan kordinat aynıdır.\n",
    "\n",
    "Bu ihtimalleri for döngüsü ile alıp, \n",
    "tahtadan çıkma ihtimalini ölçtükten sonra (bu ölçüm yapılmazsa IndexError hatası alacağız),\n",
    "çıkmadığı durumlarda listeye (mevcut konum + hareket)'in eksenlerdeki karşılığı eklenecek.\n",
    "Çıktığı durumda for döngüsü bu hareket ihtimalini yok sayacak (atlayacak),\n",
    "for'daki sonraki ihtimale gidecek\n",
    "for tüm tuple'ı dolaştığında çıkacak\n",
    "\"\"\"\n",
    "# Yatay (harfler)\n",
    "horizontal = ('a','b','c','d','e','f','g','h')\n",
    "\n",
    "# Dikey (sayılar)\n",
    "vertical = (1,2,3,4,5,6,7,8) \n",
    "\n",
    "moves = ((1,2),(2,1),(-1,2),(-2,1),(1,-2),(2,-1),(-1,-2),(-2,-1))\n",
    "moveList = []\n",
    "\n",
    "def knight(letter,number):   \n",
    "    # Gelen konumu yazdır \n",
    "    # print(\"Başlangıç konumu: ({},{})\".format(letter,number))\n",
    "    \n",
    "    # index() ile alınan verileri listelerde bul (bulunamazsa ValueError)\n",
    "    horizontalIndex = horizontal.index(letter)\n",
    "    verticalIndex = vertical.index(number)\n",
    "    \n",
    "    for v, h in moves:\n",
    "        \n",
    "        # 7'ler yerine len(vertical) - 1 ve len(horizontal) - 1 kullanabilirdik\n",
    "        if not(v + verticalIndex  > 7 or h + horizontalIndex > 7 or v + verticalIndex < 0 or h + horizontalIndex < 0):\n",
    "            moveList.append((horizontal[h + horizontalIndex], vertical[v + verticalIndex]))\n",
    "        \n",
    "        else: \n",
    "            pass\n",
    "\n",
    "    return moveList\n",
    "\n",
    "print(knight('f',3))"
   ]
  },
  {
   "cell_type": "markdown",
   "metadata": {},
   "source": [
    "Machin formülü ile Pi sayısı\n",
    "--------------------------------\n",
    "Pi sayısını hesaplamak için birçok yöntem vardır. Bunların hepsi teorik olarak $\\pi$'ye eşit olsalar da, bazıları belli bir hassasiyete ulaşmak için çok fazla hesap gerektirdikleri için pratikte işe yaramazlar. 1706'da John Machin $\\pi$ sayısı için hızlı yakınsayan, böylelikle az sayıda terimle yüksek doğruluk sağlayan bir formül yayınladı.\n",
    "\n",
    "$$\\pi = 16 \\arctan \\frac{1}{5} - 4 \\arctan \\frac{1}{239}$$\n",
    "\n",
    "Bu formüldeki arktanjant fonksiyonunu hesaplamak için bir Taylor serisi kullanılabilir.\n",
    "\n",
    "$$\\arctan x = x - \\frac{1}{3}x^3 + \\frac{1}{5}x^5 - \\frac{1}{7} x^7 + \\cdots$$\n",
    "\n",
    "Machin formülünde arktanjantı alınan sayılar küçük oldukları için, serinin az sayıda elemanıyla yüksek hassasiyeti sağlamak mümkün olacaktır.\n",
    "\n",
    "Machin formülü ile $\\pi$ sayısını yaklaşık olarak hesaplayan bir fonksiyon yazın. Fonksiyon sadece tolerans değerini parametre olarak alsın (varsayılan değer $10^{-8}$). Arktanjant fonksiyonu için matematik kütüphanesi kullanmayın, Taylor serisindeki terimleri gerekli toleransı sağlayana kadar ekleyin. Yeni eklenen terim toleransın altına düştüğünde durun."
   ]
  },
  {
   "cell_type": "code",
   "execution_count": 61,
   "metadata": {},
   "outputs": [
    {
     "name": "stdout",
     "output_type": "stream",
     "text": [
      "3.055787323511383\n",
      "3.141592653589793\n"
     ]
    }
   ],
   "source": [
    "import math\n",
    "\n",
    "'''\n",
    "print(\"-1/{}*({}^{}).\".format(i,x,i), sep = \"\\n\")\n",
    "'''\n",
    "\n",
    "def arctan(x):\n",
    "    \n",
    "    arctan = 0\n",
    "    \n",
    "    for i in range(1, 10**10, 4):\n",
    "        arctan += (1/i)*(x**i)\n",
    "               \n",
    "    for i in range(3,10**10,4):\n",
    "        arctan -= (1/i)*(x**i)\n",
    "    \n",
    "    return arctan\n",
    "\n",
    "def pi():\n",
    "    return 16 * arctan(1/5) - (4) * arctan(1/39)\n",
    "    \n",
    "print(pi())\n",
    "print(math.pi)\n",
    "\n",
    "#Yakın değere ulaşmıyor, özeelleştirilebilir parametre girişi yapılmadı"
   ]
  },
  {
   "cell_type": "markdown",
   "metadata": {},
   "source": [
    "İkinci derece denklemin kökleri\n",
    "--------------------------------\n",
    "\n",
    "Bir $x$ değişkeni için genel ikinci derece denklem $ax^2 + bx + c = 0$ olarak ifade edilir. Eğer $a\\neq 0$ ise, denklemin iki kökü\n",
    "\n",
    "$$x_{1,2} = \\frac{-b \\pm \\sqrt{b^2-4ac}}{2a}$$\n",
    "\n",
    "formülüyle bulunur. Eğer $a=0$ ise çözüm $x = -c/b$ olur.\n",
    "\n",
    "Denklemin katsayıları `a`, `b` ve `c`'yi parametre olarak alan ve denklemin köklerini (ikili çokuz olarak) veren bir fonksiyon yazın. Fonksiyon `a`'nın 0 olduğu özel durumda tekli çokuz vermeli.\n",
    "\n",
    "Diskriminantın ($b^2 -4ac$) negatif olduğu durumlarda kökler reel sayı değil karmaşık sayı olacaktır. Bu durumlarda da fonksiyonun hatasız çalışması için, karmaşık sayıli matematik kütüphanesini `import cmath` komutuyla yükleyip, karekök almak için `cmath.sqrt()` fonksiyonunu kullanabilirsiniz.\n",
    "\n",
    "Örnekler:\n",
    "\n",
    "    kökler(1,0,-4)\n",
    "    ((2+0j), (-2+0j))\n",
    "    \n",
    "    kökler(1,0,4)\n",
    "    (2j, -2j)\n",
    "    \n",
    "    kökler(0,1,4)\n",
    "    -4.0"
   ]
  },
  {
   "cell_type": "code",
   "execution_count": 7,
   "metadata": {},
   "outputs": [
    {
     "name": "stdout",
     "output_type": "stream",
     "text": [
      "((2+0j), (-2+0j))\n",
      "(2j, -2j)\n",
      "-4.0\n"
     ]
    }
   ],
   "source": [
    "import cmath\n",
    "\n",
    "def kokler(a,b,c):\n",
    "\n",
    "    if a == 0:\n",
    "        kok = -c/b\n",
    "        \n",
    "        return kok\n",
    "        \n",
    "    else:    \n",
    "   \n",
    "        d = cmath.sqrt(((b**2)-4*a*c))\n",
    "        \n",
    "        kok1 = (-b+d)/(2*a)\n",
    "        kok2 = (-b-d)/(2*a)\n",
    "        \n",
    "        return kok1, kok2\n",
    "\n",
    "print(kokler(1,0,-4),kokler(1,0,4),kokler(0,1,4), sep = \"\\n\")    "
   ]
  },
  {
   "cell_type": "markdown",
   "metadata": {},
   "source": [
    "Mükemmel sayılar\n",
    "------------------\n",
    "Bir sayı bütün çarpanlarının (1 dahil, kendisi hariç) toplamına eşitse, o sayıya _mükemmel sayı_ denir. Sözgelişi, 1+2+3=6 olduğundan, 6 bir mükemmel sayıdır.\n",
    "\n",
    "Verilen bir sayı \"mükemmel\"se `True`, değilse `False` veren bir fonksiyon yazın. Örnek:\n",
    "\n",
    "    mukemmel(6)\n",
    "    True\n",
    "    \n",
    "    mukemmel(10)\n",
    "    False\n",
    "    \n",
    "Bu fonksiyonu kullanarak, 10 000'den küçük bütün \"mükemmel\" sayıları bulun."
   ]
  },
  {
   "cell_type": "code",
   "execution_count": 8,
   "metadata": {},
   "outputs": [
    {
     "name": "stdout",
     "output_type": "stream",
     "text": [
      "6\n",
      "28\n",
      "496\n",
      "8128\n"
     ]
    }
   ],
   "source": [
    "def mukemmel(x):\n",
    "    \n",
    "    carpim = []\n",
    "    toplam = 0\n",
    "    \n",
    "    for i in range(1, x):\n",
    "        \n",
    "        if (x % i) == 0:\n",
    "            carpim.append(i)\n",
    "    \n",
    "    for i in carpim:\n",
    "        toplam += i\n",
    "        \n",
    "    if toplam == x:\n",
    "        return True\n",
    "    else:\n",
    "        return False\n",
    "        \n",
    "        \n",
    "for i in range(1,10000):\n",
    "    \n",
    "    if mukemmel(i) == True:\n",
    "        print(i)"
   ]
  }
 ],
 "metadata": {
  "kernelspec": {
   "display_name": "Python 3",
   "language": "python",
   "name": "python3"
  },
  "language_info": {
   "codemirror_mode": {
    "name": "ipython",
    "version": 3
   },
   "file_extension": ".py",
   "mimetype": "text/x-python",
   "name": "python",
   "nbconvert_exporter": "python",
   "pygments_lexer": "ipython3",
   "version": "3.7.6"
  }
 },
 "nbformat": 4,
 "nbformat_minor": 2
}
