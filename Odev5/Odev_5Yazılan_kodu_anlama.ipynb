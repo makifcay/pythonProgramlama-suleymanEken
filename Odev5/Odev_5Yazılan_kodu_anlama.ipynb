{
 "cells": [
  {
   "cell_type": "markdown",
   "metadata": {},
   "source": [
    "#### Aşağıdak üç yaklaşımda ne hesaplanıyor, birbirlerinden farkı/birbirleriyle ilişkisi nedir? Detaylıca aşağıdaki hücreye yazınız. Yaklaşım 3'ü dosyaya yazma okuma işlemleri kullanarak daha hızlı sonuç verecek şekilde düzenleyiniz.  \"ogrenci_no.ipynb\" dosyasını suleyman.eken@kocaeli.edu.tr adresine 6 Nisan 2020 Pazartesi saat 17.00ye kadar atınız."
   ]
  },
  {
   "cell_type": "markdown",
   "metadata": {},
   "source": []
  },
  {
   "cell_type": "code",
   "execution_count": 1,
   "metadata": {},
   "outputs": [],
   "source": [
    "import numpy as np"
   ]
  },
  {
   "cell_type": "code",
   "execution_count": 2,
   "metadata": {},
   "outputs": [
    {
     "name": "stdout",
     "output_type": "stream",
     "text": [
      "3.141592653589793\n"
     ]
    }
   ],
   "source": [
    "pi_true = np.pi\n",
    "print(pi_true)"
   ]
  },
  {
   "cell_type": "markdown",
   "metadata": {},
   "source": [
    "Yaklaşım 1\n",
    "-------------------"
   ]
  },
  {
   "cell_type": "code",
   "execution_count": 3,
   "metadata": {},
   "outputs": [],
   "source": [
    "def pi_approx(N):\n",
    "    summation = 0\n",
    "    for i in range(N):\n",
    "        alpha  = (i - 0.5)/N\n",
    "        summation = summation + 1 / (1 + alpha**2)\n",
    "        #print(\"i = {} and summation = {}\".format(i, summation))\n",
    "\n",
    "    result = (4 / N)*summation\n",
    "    #print(\"pi approximation = {}\".format(result))\n",
    "\n",
    "    return result"
   ]
  },
  {
   "cell_type": "code",
   "execution_count": 4,
   "metadata": {},
   "outputs": [
    {
     "data": {
      "text/plain": [
       "3.4950161216478772"
      ]
     },
     "execution_count": 4,
     "metadata": {},
     "output_type": "execute_result"
    }
   ],
   "source": [
    "pi_approx(5)"
   ]
  },
  {
   "cell_type": "code",
   "execution_count": 5,
   "metadata": {},
   "outputs": [],
   "source": [
    "def pi_error(N):\n",
    "\n",
    "    pi_err = np.abs(pi_true - pi_approx(N))\n",
    "\n",
    "    #print(\"The true value of pi = {}, the approxiamtion = {}\".format(pi_true, pi_approx(N)))\n",
    "    #print(\"Thus, the error is = {}\".format(pi_err))\n",
    "\n",
    "    return pi_err"
   ]
  },
  {
   "cell_type": "code",
   "execution_count": 6,
   "metadata": {},
   "outputs": [
    {
     "data": {
      "text/plain": [
       "0.3534234680580841"
      ]
     },
     "execution_count": 6,
     "metadata": {},
     "output_type": "execute_result"
    }
   ],
   "source": [
    "pi_error(5)"
   ]
  },
  {
   "cell_type": "code",
   "execution_count": 7,
   "metadata": {},
   "outputs": [
    {
     "name": "stdout",
     "output_type": "stream",
     "text": [
      "1 inputs = PI approximation of 3.2.\n",
      "0.05840734641020706\n",
      "2 inputs = PI approximation of 3.764705882352941.\n",
      "0.623113228763148\n",
      "10 inputs = PI approximation of 3.3311788072817965.\n",
      "0.18958615369200338\n",
      "50 inputs = PI approximation of 3.1812159878239283.\n",
      "0.03962333423413522\n",
      "100 inputs = PI approximation of 3.161499736951266.\n",
      "0.019907083361472733\n",
      "500 inputs = PI approximation of 3.145588976923137.\n",
      "0.003996323333343987\n"
     ]
    }
   ],
   "source": [
    "N = [1,2,10,50,100,500]\n",
    "outputs_list = []\n",
    "for input in N:\n",
    "    outputs = pi_approx(input)\n",
    "    outputs_list.append(pi_error(input))\n",
    "    print(\"{} inputs = PI approximation of {}.\".format(input, outputs))\n",
    "    print(pi_error(input))"
   ]
  },
  {
   "cell_type": "markdown",
   "metadata": {},
   "source": [
    "Yaklaşım 2\n",
    "-------------------"
   ]
  },
  {
   "cell_type": "code",
   "execution_count": 8,
   "metadata": {},
   "outputs": [],
   "source": [
    "import time"
   ]
  },
  {
   "cell_type": "code",
   "execution_count": 9,
   "metadata": {},
   "outputs": [],
   "source": [
    "upper_bound = 500000\n",
    "\n",
    "def iterative_search(upper_bound):\n",
    "\n",
    "    for input in range(500, upper_bound):\n",
    "        if input % 5000 == 0:\n",
    "            print(\"Iteration at {}\".format(input))\n",
    "        if pi_error(input) < 0.000001:\n",
    "            print(\"Got 'eeeem at {}\".format(input))\n",
    "            break"
   ]
  },
  {
   "cell_type": "code",
   "execution_count": 10,
   "metadata": {},
   "outputs": [
    {
     "name": "stdout",
     "output_type": "stream",
     "text": [
      "Iteration at 5000\n",
      "Iteration at 10000\n",
      "Iteration at 15000\n",
      "Iteration at 20000\n",
      "Iteration at 25000\n",
      "Iteration at 30000\n",
      "Iteration at 35000\n",
      "Iteration at 40000\n",
      "Iteration at 45000\n"
     ]
    },
    {
     "ename": "KeyboardInterrupt",
     "evalue": "",
     "output_type": "error",
     "traceback": [
      "\u001b[1;31m---------------------------------------------------------------------------\u001b[0m",
      "\u001b[1;31mKeyboardInterrupt\u001b[0m                         Traceback (most recent call last)",
      "\u001b[1;32m<ipython-input-10-6c472663d796>\u001b[0m in \u001b[0;36m<module>\u001b[1;34m\u001b[0m\n\u001b[0;32m      1\u001b[0m \u001b[0mstart\u001b[0m \u001b[1;33m=\u001b[0m \u001b[0mtime\u001b[0m\u001b[1;33m.\u001b[0m\u001b[0mtime\u001b[0m\u001b[1;33m(\u001b[0m\u001b[1;33m)\u001b[0m\u001b[1;33m\u001b[0m\u001b[1;33m\u001b[0m\u001b[0m\n\u001b[0;32m      2\u001b[0m \u001b[1;33m\u001b[0m\u001b[0m\n\u001b[1;32m----> 3\u001b[1;33m \u001b[0miterative_search\u001b[0m\u001b[1;33m(\u001b[0m\u001b[0mupper_bound\u001b[0m\u001b[1;33m)\u001b[0m\u001b[1;33m\u001b[0m\u001b[1;33m\u001b[0m\u001b[0m\n\u001b[0m\u001b[0;32m      4\u001b[0m \u001b[1;33m\u001b[0m\u001b[0m\n\u001b[0;32m      5\u001b[0m \u001b[0mend\u001b[0m \u001b[1;33m=\u001b[0m \u001b[0mtime\u001b[0m\u001b[1;33m.\u001b[0m\u001b[0mtime\u001b[0m\u001b[1;33m(\u001b[0m\u001b[1;33m)\u001b[0m\u001b[1;33m\u001b[0m\u001b[1;33m\u001b[0m\u001b[0m\n",
      "\u001b[1;32m<ipython-input-9-1a2020300d3e>\u001b[0m in \u001b[0;36miterative_search\u001b[1;34m(upper_bound)\u001b[0m\n\u001b[0;32m      6\u001b[0m         \u001b[1;32mif\u001b[0m \u001b[0minput\u001b[0m \u001b[1;33m%\u001b[0m \u001b[1;36m5000\u001b[0m \u001b[1;33m==\u001b[0m \u001b[1;36m0\u001b[0m\u001b[1;33m:\u001b[0m\u001b[1;33m\u001b[0m\u001b[1;33m\u001b[0m\u001b[0m\n\u001b[0;32m      7\u001b[0m             \u001b[0mprint\u001b[0m\u001b[1;33m(\u001b[0m\u001b[1;34m\"Iteration at {}\"\u001b[0m\u001b[1;33m.\u001b[0m\u001b[0mformat\u001b[0m\u001b[1;33m(\u001b[0m\u001b[0minput\u001b[0m\u001b[1;33m)\u001b[0m\u001b[1;33m)\u001b[0m\u001b[1;33m\u001b[0m\u001b[1;33m\u001b[0m\u001b[0m\n\u001b[1;32m----> 8\u001b[1;33m         \u001b[1;32mif\u001b[0m \u001b[0mpi_error\u001b[0m\u001b[1;33m(\u001b[0m\u001b[0minput\u001b[0m\u001b[1;33m)\u001b[0m \u001b[1;33m<\u001b[0m \u001b[1;36m0.000001\u001b[0m\u001b[1;33m:\u001b[0m\u001b[1;33m\u001b[0m\u001b[1;33m\u001b[0m\u001b[0m\n\u001b[0m\u001b[0;32m      9\u001b[0m             \u001b[0mprint\u001b[0m\u001b[1;33m(\u001b[0m\u001b[1;34m\"Got 'eeeem at {}\"\u001b[0m\u001b[1;33m.\u001b[0m\u001b[0mformat\u001b[0m\u001b[1;33m(\u001b[0m\u001b[0minput\u001b[0m\u001b[1;33m)\u001b[0m\u001b[1;33m)\u001b[0m\u001b[1;33m\u001b[0m\u001b[1;33m\u001b[0m\u001b[0m\n\u001b[0;32m     10\u001b[0m             \u001b[1;32mbreak\u001b[0m\u001b[1;33m\u001b[0m\u001b[1;33m\u001b[0m\u001b[0m\n",
      "\u001b[1;32m<ipython-input-5-bea73ccc2606>\u001b[0m in \u001b[0;36mpi_error\u001b[1;34m(N)\u001b[0m\n\u001b[0;32m      1\u001b[0m \u001b[1;32mdef\u001b[0m \u001b[0mpi_error\u001b[0m\u001b[1;33m(\u001b[0m\u001b[0mN\u001b[0m\u001b[1;33m)\u001b[0m\u001b[1;33m:\u001b[0m\u001b[1;33m\u001b[0m\u001b[1;33m\u001b[0m\u001b[0m\n\u001b[0;32m      2\u001b[0m \u001b[1;33m\u001b[0m\u001b[0m\n\u001b[1;32m----> 3\u001b[1;33m     \u001b[0mpi_err\u001b[0m \u001b[1;33m=\u001b[0m \u001b[0mnp\u001b[0m\u001b[1;33m.\u001b[0m\u001b[0mabs\u001b[0m\u001b[1;33m(\u001b[0m\u001b[0mpi_true\u001b[0m \u001b[1;33m-\u001b[0m \u001b[0mpi_approx\u001b[0m\u001b[1;33m(\u001b[0m\u001b[0mN\u001b[0m\u001b[1;33m)\u001b[0m\u001b[1;33m)\u001b[0m\u001b[1;33m\u001b[0m\u001b[1;33m\u001b[0m\u001b[0m\n\u001b[0m\u001b[0;32m      4\u001b[0m \u001b[1;33m\u001b[0m\u001b[0m\n\u001b[0;32m      5\u001b[0m     \u001b[1;31m#print(\"The true value of pi = {}, the approxiamtion = {}\".format(pi_true, pi_approx(N)))\u001b[0m\u001b[1;33m\u001b[0m\u001b[1;33m\u001b[0m\u001b[1;33m\u001b[0m\u001b[0m\n",
      "\u001b[1;32m<ipython-input-3-3f8760aec2a6>\u001b[0m in \u001b[0;36mpi_approx\u001b[1;34m(N)\u001b[0m\n\u001b[0;32m      3\u001b[0m     \u001b[1;32mfor\u001b[0m \u001b[0mi\u001b[0m \u001b[1;32min\u001b[0m \u001b[0mrange\u001b[0m\u001b[1;33m(\u001b[0m\u001b[0mN\u001b[0m\u001b[1;33m)\u001b[0m\u001b[1;33m:\u001b[0m\u001b[1;33m\u001b[0m\u001b[1;33m\u001b[0m\u001b[0m\n\u001b[0;32m      4\u001b[0m         \u001b[0malpha\u001b[0m  \u001b[1;33m=\u001b[0m \u001b[1;33m(\u001b[0m\u001b[0mi\u001b[0m \u001b[1;33m-\u001b[0m \u001b[1;36m0.5\u001b[0m\u001b[1;33m)\u001b[0m\u001b[1;33m/\u001b[0m\u001b[0mN\u001b[0m\u001b[1;33m\u001b[0m\u001b[1;33m\u001b[0m\u001b[0m\n\u001b[1;32m----> 5\u001b[1;33m         \u001b[0msummation\u001b[0m \u001b[1;33m=\u001b[0m \u001b[0msummation\u001b[0m \u001b[1;33m+\u001b[0m \u001b[1;36m1\u001b[0m \u001b[1;33m/\u001b[0m \u001b[1;33m(\u001b[0m\u001b[1;36m1\u001b[0m \u001b[1;33m+\u001b[0m \u001b[0malpha\u001b[0m\u001b[1;33m**\u001b[0m\u001b[1;36m2\u001b[0m\u001b[1;33m)\u001b[0m\u001b[1;33m\u001b[0m\u001b[1;33m\u001b[0m\u001b[0m\n\u001b[0m\u001b[0;32m      6\u001b[0m         \u001b[1;31m#print(\"i = {} and summation = {}\".format(i, summation))\u001b[0m\u001b[1;33m\u001b[0m\u001b[1;33m\u001b[0m\u001b[1;33m\u001b[0m\u001b[0m\n\u001b[0;32m      7\u001b[0m \u001b[1;33m\u001b[0m\u001b[0m\n",
      "\u001b[1;31mKeyboardInterrupt\u001b[0m: "
     ]
    }
   ],
   "source": [
    "start = time.time()\n",
    "\n",
    "iterative_search(upper_bound)\n",
    "\n",
    "end = time.time()\n",
    "print(\"Took {} s\".format((end - start)))"
   ]
  },
  {
   "cell_type": "markdown",
   "metadata": {},
   "source": [
    "Yaklaşım 3\n",
    "-------------------"
   ]
  },
  {
   "cell_type": "code",
   "execution_count": null,
   "metadata": {},
   "outputs": [],
   "source": [
    "import math"
   ]
  },
  {
   "cell_type": "code",
   "execution_count": null,
   "metadata": {},
   "outputs": [],
   "source": [
    "start = time.time()\n",
    "# First search\n",
    "guesses = []\n",
    "guess = 10\n",
    "\n",
    "while pi_error(guess) > 0.000001:\n",
    "    guesses = [guess]\n",
    "    guess = guess * 2\n",
    "    guesses.append(guess)\n",
    "    print(guess)\n",
    "\n",
    "print(guesses.pop())\n",
    "\n",
    "upper_lim = guess\n",
    "lower_lim = guesses.pop()\n",
    "middle = math.floor(upper_lim - lower_lim / 2)\n",
    "\n",
    "print(\"Upper - {},\\nLower - {},\\nMiddle - {}\".format(upper_lim, lower_lim, middle))\n",
    "\n",
    "while True:\n",
    "    #Is middle point above or below desired answer?\n",
    "    if pi_error(middle) < 0.000001:\n",
    "        print(\"Above\")\n",
    "        upper_lim = middle\n",
    "        # lower, no change\n",
    "        diff = math.floor((upper_lim - lower_lim) / 2)\n",
    "        middle = lower_lim + diff\n",
    "    else:\n",
    "        print(\"Below\")\n",
    "        #upper_lim stays the same\n",
    "        lower_lim = middle\n",
    "        diff = math.floor((upper_lim - lower_lim) / 2)\n",
    "        middle = lower_lim + diff\n",
    "    print(\"Upper - {},\\nLower - {},\\nMiddle - {}\".format(upper_lim, lower_lim, middle))\n",
    "    if (middle == lower_lim) or (middle == upper_lim):\n",
    "        for input in range(lower_lim, upper_lim + 1):\n",
    "\n",
    "            if pi_error(input) < 0.000001:\n",
    "                print(\"Got 'eeeem at {}\".format(input))\n",
    "                break\n",
    "        break\n",
    "        # return middle\n",
    "\n",
    "        \n",
    "end = time.time()\n",
    "print(\"Took {} s\".format((end - start)))"
   ]
  },
  {
   "cell_type": "markdown",
   "metadata": {},
   "source": [
    "Yaklaşım 4-Hızlandırma\n",
    "-------------------"
   ]
  },
  {
   "cell_type": "code",
   "execution_count": null,
   "metadata": {},
   "outputs": [],
   "source": []
  }
 ],
 "metadata": {
  "kernelspec": {
   "display_name": "Python 3",
   "language": "python",
   "name": "python3"
  },
  "language_info": {
   "codemirror_mode": {
    "name": "ipython",
    "version": 3
   },
   "file_extension": ".py",
   "mimetype": "text/x-python",
   "name": "python",
   "nbconvert_exporter": "python",
   "pygments_lexer": "ipython3",
   "version": "3.7.6"
  }
 },
 "nbformat": 4,
 "nbformat_minor": 2
}
